{
 "cells": [
  {
   "cell_type": "code",
   "execution_count": null,
   "metadata": {},
   "outputs": [],
   "source": [
    "%pip install pyannote.metrics\n",
    "%pip install pyannote.core\n"
   ]
  },
  {
   "cell_type": "code",
   "execution_count": 6,
   "metadata": {},
   "outputs": [],
   "source": [
    "from pyannote.metrics.diarization import DiarizationErrorRate\n",
    "from pyannote.core import Annotation, Timeline, Segment\n",
    "\n",
    "def read_rttm_file_into_annotation(rttm_path):\n",
    "\n",
    "    speaker_segments = Annotation()\n",
    "    \n",
    "    with open(rttm_path, 'r') as f:\n",
    "        for line in f:\n",
    "            parts = line.strip().split()\n",
    "            if parts[0] == \"SPEAKER\": \n",
    "                speaker = parts[7]\n",
    "                start_time = float(parts[3])\n",
    "                duration = float(parts[4])\n",
    "                end_time = start_time + duration\n",
    "\n",
    "                speaker_segments[Segment(round(start_time, 2), round(end_time,2))] = speaker\n",
    "\n",
    "    return speaker_segments\n",
    "\n",
    "def compute_der(hyp_rttm_path, ref_rttm_path):\n",
    "    \"\"\"\n",
    "    Compute Diarization Error Rate (DER) allowing overlap.\n",
    "    \n",
    "    :param reference: Ground truth diarization (pyannote Annotation)\n",
    "    :param hypothesis: Predicted diarization (pyannote Annotation)\n",
    "    :return: DER score\n",
    "    \"\"\"\n",
    "    metric = DiarizationErrorRate()\n",
    "    hypothesis = read_rttm_file_into_annotation(hyp_rttm_path)\n",
    "    reference = read_rttm_file_into_annotation(ref_rttm_path)\n",
    "\n",
    "    der_score = metric(reference, hypothesis)\n",
    "    return der_score"
   ]
  },
  {
   "cell_type": "code",
   "execution_count": 8,
   "metadata": {},
   "outputs": [
    {
     "name": "stderr",
     "output_type": "stream",
     "text": [
      "c:\\Users\\User\\AppData\\Local\\Programs\\Python\\Python312\\Lib\\site-packages\\pyannote\\metrics\\utils.py:200: UserWarning: 'uem' was approximated by the union of 'reference' and 'hypothesis' extents.\n",
      "  warnings.warn(\n"
     ]
    },
    {
     "name": "stdout",
     "output_type": "stream",
     "text": [
      "Nemo's DER: 0.2010746232204104\n",
      "Pyannote's DER: 0.12757080199863757\n",
      "Reverb's DER: 0.30597759166352895\n"
     ]
    }
   ],
   "source": [
    "import simpleder\n",
    "\n",
    "nemo_rttm_path = 'outputs/nemo_test.rttm'\n",
    "pyannote_rttm_path = 'outputs/pyannote_test.rttm'\n",
    "reverb_rttm_path = 'outputs/reverb_test.rttm'\n",
    "\n",
    "reference_rttm_path = 'ami_dataset/IS1002c.Mix-Headset.rttm'\n",
    "\n",
    "nemo_error = compute_der(nemo_rttm_path, reference_rttm_path)\n",
    "pyannote_error = compute_der(pyannote_rttm_path, reference_rttm_path)\n",
    "reverb_error = compute_der(reverb_rttm_path, reference_rttm_path)\n",
    "\n",
    "print(f\"Nemo's DER: {nemo_error}\")\n",
    "print(f\"Pyannote's DER: {pyannote_error}\")\n",
    "print(f\"Reverb's DER: {reverb_error}\")"
   ]
  },
  {
   "cell_type": "code",
   "execution_count": null,
   "metadata": {},
   "outputs": [],
   "source": []
  }
 ],
 "metadata": {
  "kernelspec": {
   "display_name": "Python 3",
   "language": "python",
   "name": "python3"
  },
  "language_info": {
   "codemirror_mode": {
    "name": "ipython",
    "version": 3
   },
   "file_extension": ".py",
   "mimetype": "text/x-python",
   "name": "python",
   "nbconvert_exporter": "python",
   "pygments_lexer": "ipython3",
   "version": "3.12.6"
  }
 },
 "nbformat": 4,
 "nbformat_minor": 2
}
