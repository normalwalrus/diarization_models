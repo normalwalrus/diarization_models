{
 "cells": [
  {
   "cell_type": "code",
   "execution_count": null,
   "metadata": {},
   "outputs": [],
   "source": [
    "%pip install datasets\n",
    "%pip install librosa"
   ]
  },
  {
   "cell_type": "code",
   "execution_count": 1,
   "metadata": {},
   "outputs": [
    {
     "name": "stderr",
     "output_type": "stream",
     "text": [
      "c:\\Users\\User\\AppData\\Local\\Programs\\Python\\Python312\\Lib\\site-packages\\tqdm\\auto.py:21: TqdmWarning: IProgress not found. Please update jupyter and ipywidgets. See https://ipywidgets.readthedocs.io/en/stable/user_install.html\n",
      "  from .autonotebook import tqdm as notebook_tqdm\n"
     ]
    },
    {
     "name": "stdout",
     "output_type": "stream",
     "text": [
      "DatasetDict({\n",
      "    train: Dataset({\n",
      "        features: ['audio', 'timestamps_start', 'timestamps_end', 'speakers'],\n",
      "        num_rows: 136\n",
      "    })\n",
      "    validation: Dataset({\n",
      "        features: ['audio', 'timestamps_start', 'timestamps_end', 'speakers'],\n",
      "        num_rows: 18\n",
      "    })\n",
      "    test: Dataset({\n",
      "        features: ['audio', 'timestamps_start', 'timestamps_end', 'speakers'],\n",
      "        num_rows: 16\n",
      "    })\n",
      "})\n"
     ]
    }
   ],
   "source": [
    "from datasets import load_dataset\n",
    "ds = load_dataset(\"diarizers-community/ami\", \"ihm\")\n",
    "\n",
    "print(ds)"
   ]
  },
  {
   "cell_type": "code",
   "execution_count": null,
   "metadata": {},
   "outputs": [],
   "source": [
    "ds['train'][0]"
   ]
  },
  {
   "cell_type": "markdown",
   "metadata": {},
   "source": [
    "## Get wav file audio"
   ]
  },
  {
   "cell_type": "code",
   "execution_count": 41,
   "metadata": {},
   "outputs": [],
   "source": [
    "import soundfile as sf\n",
    "\n",
    "def export_as_wav_file(ds_entry, output_path = 'test.wav'):\n",
    "    y = ds_entry['audio']['array']\n",
    "    sr = ds_entry['audio']['sampling_rate']\n",
    "\n",
    "    sf.write(output_path, y, sr)\n",
    "\n",
    "ds_entry = ds['train'][0]\n",
    "export_as_wav_file(ds_entry)"
   ]
  },
  {
   "cell_type": "code",
   "execution_count": 34,
   "metadata": {},
   "outputs": [
    {
     "name": "stdout",
     "output_type": "stream",
     "text": [
      "Number of speakers = 4\n"
     ]
    },
    {
     "data": {
      "text/plain": [
       "['MIO026', 'MIE029', 'MIE083', 'MIE080']"
      ]
     },
     "execution_count": 34,
     "metadata": {},
     "output_type": "execute_result"
    }
   ],
   "source": [
    "def find_unique_elements(lst):\n",
    "    return list(set(lst))\n",
    "\n",
    "unique_elements = find_unique_elements(ds['train'][0]['speakers'])\n",
    "\n",
    "print(f\"Number of speakers = {len(unique_elements)}\")\n",
    "unique_elements"
   ]
  },
  {
   "cell_type": "markdown",
   "metadata": {},
   "source": [
    "## Get rttm file as ground truth"
   ]
  },
  {
   "cell_type": "code",
   "execution_count": 40,
   "metadata": {},
   "outputs": [],
   "source": [
    "def export_rttm_file(df, file_id, output_path = 'test.rttm'):\n",
    "    ''' Get rttm of 1 entry in ami'''\n",
    "\n",
    "    timestamps_start = df['timestamps_start']\n",
    "    timestamps_end = df['timestamps_end']\n",
    "    speakers = df['speakers']\n",
    "\n",
    "    for i in range(len(timestamps_start)):\n",
    "\n",
    "        duration = timestamps_end[i] - timestamps_start[i]\n",
    "\n",
    "        with open(output_path, 'a') as f:\n",
    "            line = f\"SPEAKER {file_id} 1 {timestamps_start[i]:.3f} {duration:.3f} <NA> <NA> {speakers[i]} <NA>\\n\"\n",
    "            f.write(line)\n",
    "\n",
    "\n",
    "export_rttm_file(ds['train'][0], ds['train'][0]['audio']['path'], 'test.rttm')"
   ]
  },
  {
   "cell_type": "markdown",
   "metadata": {},
   "source": [
    "## Exporting out the entire dataset"
   ]
  },
  {
   "cell_type": "code",
   "execution_count": 3,
   "metadata": {},
   "outputs": [
    {
     "data": {
      "text/plain": [
       "'IS1002c.Mix-Headset.wav'"
      ]
     },
     "execution_count": 3,
     "metadata": {},
     "output_type": "execute_result"
    }
   ],
   "source": [
    "ds['train'][0]['audio']['path']"
   ]
  },
  {
   "cell_type": "code",
   "execution_count": 9,
   "metadata": {},
   "outputs": [
    {
     "name": "stdout",
     "output_type": "stream",
     "text": [
      "We are at 10!\n"
     ]
    }
   ],
   "source": [
    "import soundfile as sf\n",
    "import os\n",
    "\n",
    "def export_as_wav_file(ds_entry, output_path = 'test.wav'):\n",
    "    ''' export 1 entry in ami'''\n",
    "    y = ds_entry['audio']['array']\n",
    "    sr = ds_entry['audio']['sampling_rate']\n",
    "\n",
    "    sf.write(output_path, y, sr)\n",
    "\n",
    "def export_rttm_file(df, file_id, output_path = 'test.rttm'):\n",
    "    ''' Get rttm of 1 entry in ami'''\n",
    "\n",
    "    timestamps_start = df['timestamps_start']\n",
    "    timestamps_end = df['timestamps_end']\n",
    "    speakers = df['speakers']\n",
    "\n",
    "    for i in range(len(timestamps_start)):\n",
    "\n",
    "        duration = timestamps_end[i] - timestamps_start[i]\n",
    "\n",
    "        with open(output_path, 'a') as f:\n",
    "            line = f\"SPEAKER {file_id} 1 {timestamps_start[i]:.3f} {duration:.3f} <NA> <NA> {speakers[i]} <NA>\\n\"\n",
    "            f.write(line)\n",
    "\n",
    "count = 0\n",
    "for entry in ds['validation']:\n",
    "\n",
    "    basename, _ = os.path.splitext(entry['audio']['path'])\n",
    "\n",
    "    wav_output_path = 'ami_dataset/audio/' + basename +'.wav'\n",
    "    rttm_output_path = 'ami_dataset/rttm/' + basename +'.rttm'\n",
    "\n",
    "    export_as_wav_file(entry, wav_output_path)\n",
    "    export_rttm_file(entry, basename, rttm_output_path)\n",
    "\n",
    "    count+=1\n",
    "    if count % 10 == 0:\n",
    "        print(f\"We are at {count}!\")\n"
   ]
  },
  {
   "cell_type": "code",
   "execution_count": null,
   "metadata": {},
   "outputs": [],
   "source": []
  }
 ],
 "metadata": {
  "kernelspec": {
   "display_name": "Python 3",
   "language": "python",
   "name": "python3"
  },
  "language_info": {
   "codemirror_mode": {
    "name": "ipython",
    "version": 3
   },
   "file_extension": ".py",
   "mimetype": "text/x-python",
   "name": "python",
   "nbconvert_exporter": "python",
   "pygments_lexer": "ipython3",
   "version": "3.12.6"
  }
 },
 "nbformat": 4,
 "nbformat_minor": 2
}
