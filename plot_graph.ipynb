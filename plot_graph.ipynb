{
 "cells": [
  {
   "cell_type": "code",
   "execution_count": null,
   "metadata": {},
   "outputs": [],
   "source": [
    "import matplotlib.pyplot as plt\n",
    "import pandas as pd\n",
    "\n",
    "# Function to read RTTM file\n",
    "def read_rttm(file_path):\n",
    "    data = []\n",
    "    with open(file_path, 'r') as file:\n",
    "        for line in file:\n",
    "            parts = line.strip().split()\n",
    "            if parts[0] == \"SPEAKER\":  # Ensure it's a speaker segment\n",
    "                start_time = float(parts[3])\n",
    "                duration = float(parts[4])\n",
    "                speaker = parts[7]\n",
    "                end_time = start_time + duration\n",
    "                data.append((start_time, end_time, speaker))\n",
    "    return pd.DataFrame(data, columns=[\"Start\", \"End\", \"Speaker\"])\n",
    "\n",
    "# Load RTTM file\n",
    "df = read_rttm(\"example.rttm\")\n",
    "\n",
    "print(df.head())"
   ]
  },
  {
   "cell_type": "code",
   "execution_count": null,
   "metadata": {},
   "outputs": [],
   "source": [
    "import matplotlib.patches as mpatches\n",
    "\n",
    "def plot_rttm(df):\n",
    "    fig, ax = plt.subplots(figsize=(10, 5))\n",
    "\n",
    "    # Get unique speakers and assign colors\n",
    "    speakers = sorted(df[\"Speaker\"].unique())\n",
    "    speaker_colors = {spk: plt.cm.tab10(i / len(speakers)) for i, spk in enumerate(speakers)}\n",
    "\n",
    "    # Plot each speaker segment\n",
    "    for _, row in df.iterrows():\n",
    "        ax.barh(row[\"Speaker\"], row[\"End\"] - row[\"Start\"], left=row[\"Start\"], color=speaker_colors[row[\"Speaker\"]])\n",
    "\n",
    "    # Labels and Formatting\n",
    "    ax.set_xlabel(\"Time (s)\")\n",
    "    ax.set_ylabel(\"Speaker\")\n",
    "    ax.set_title(\"Speaker Diarization Timeline\")\n",
    "    \n",
    "    # Create legend\n",
    "    patches = [mpatches.Patch(color=color, label=speaker) for speaker, color in speaker_colors.items()]\n",
    "    ax.legend(handles=patches, title=\"Speakers\", bbox_to_anchor=(1, 1))\n",
    "\n",
    "    plt.show()\n",
    "\n",
    "# Plot RTTM\n",
    "plot_rttm(df)"
   ]
  }
 ],
 "metadata": {
  "kernelspec": {
   "display_name": "venv",
   "language": "python",
   "name": "python3"
  },
  "language_info": {
   "name": "python",
   "version": "3.12.6"
  }
 },
 "nbformat": 4,
 "nbformat_minor": 2
}
